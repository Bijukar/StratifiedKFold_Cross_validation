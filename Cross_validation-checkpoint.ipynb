{
 "cells": [
  {
   "cell_type": "code",
   "execution_count": 17,
   "id": "bd275dca-6dda-4741-9560-6ea5514d761f",
   "metadata": {},
   "outputs": [],
   "source": [
#" a b c d e f g h i j k l m\n",
    "import pandas as pd\n",
    "import numpy as np\n",
    "from sklearn.model_selection import StratifiedKFold,cross_val_score\n",
    "from sklearn.preprocessing import LabelEncoder,OneHotEncoder\n",
    "from sklearn.ensemble import RandomForestClassifier\n"
   ]
  },
  {
   "cell_type": "code",
   "execution_count": 3,
   "id": "dce031ef-638f-4f8d-b0ac-1faaf213a8e4",
   "metadata": {},
   "outputs": [
    {
     "data": {
      "text/html": [
       "<div>\n",
       "<style scoped>\n",
       "    .dataframe tbody tr th:only-of-type {\n",
       "        vertical-align: middle;\n",
       "    }\n",
       "\n",
       "    .dataframe tbody tr th {\n",
       "        vertical-align: top;\n",
       "    }\n",
       "\n",
       "    .dataframe thead th {\n",
       "        text-align: right;\n",
       "    }\n",
       "</style>\n",
       "<table border=\"1\" class=\"dataframe\">\n",
       "  <thead>\n",
       "    <tr style=\"text-align: right;\">\n",
       "      <th></th>\n",
       "      <th>Temperature</th>\n",
       "      <th>Humidity</th>\n",
       "      <th>Wind Speed</th>\n",
       "      <th>Precipitation (%)</th>\n",
       "      <th>Cloud Cover</th>\n",
       "      <th>Atmospheric Pressure</th>\n",
       "      <th>UV Index</th>\n",
       "      <th>Season</th>\n",
       "      <th>Visibility (km)</th>\n",
       "      <th>Location</th>\n",
       "      <th>Weather Type</th>\n",
       "    </tr>\n",
       "  </thead>\n",
       "  <tbody>\n",
       "    <tr>\n",
       "      <th>0</th>\n",
       "      <td>14.0</td>\n",
       "      <td>73</td>\n",
       "      <td>9.5</td>\n",
       "      <td>82.0</td>\n",
       "      <td>partly cloudy</td>\n",
       "      <td>1010.82</td>\n",
       "      <td>2</td>\n",
       "      <td>Winter</td>\n",
       "      <td>3.5</td>\n",
       "      <td>inland</td>\n",
       "      <td>Rainy</td>\n",
       "    </tr>\n",
       "    <tr>\n",
       "      <th>1</th>\n",
       "      <td>39.0</td>\n",
       "      <td>96</td>\n",
       "      <td>8.5</td>\n",
       "      <td>71.0</td>\n",
       "      <td>partly cloudy</td>\n",
       "      <td>1011.43</td>\n",
       "      <td>7</td>\n",
       "      <td>Spring</td>\n",
       "      <td>10.0</td>\n",
       "      <td>inland</td>\n",
       "      <td>Cloudy</td>\n",
       "    </tr>\n",
       "    <tr>\n",
       "      <th>2</th>\n",
       "      <td>30.0</td>\n",
       "      <td>64</td>\n",
       "      <td>7.0</td>\n",
       "      <td>16.0</td>\n",
       "      <td>clear</td>\n",
       "      <td>1018.72</td>\n",
       "      <td>5</td>\n",
       "      <td>Spring</td>\n",
       "      <td>5.5</td>\n",
       "      <td>mountain</td>\n",
       "      <td>Sunny</td>\n",
       "    </tr>\n",
       "    <tr>\n",
       "      <th>3</th>\n",
       "      <td>38.0</td>\n",
       "      <td>83</td>\n",
       "      <td>1.5</td>\n",
       "      <td>82.0</td>\n",
       "      <td>clear</td>\n",
       "      <td>1026.25</td>\n",
       "      <td>7</td>\n",
       "      <td>Spring</td>\n",
       "      <td>1.0</td>\n",
       "      <td>coastal</td>\n",
       "      <td>Sunny</td>\n",
       "    </tr>\n",
       "    <tr>\n",
       "      <th>4</th>\n",
       "      <td>27.0</td>\n",
       "      <td>74</td>\n",
       "      <td>17.0</td>\n",
       "      <td>66.0</td>\n",
       "      <td>overcast</td>\n",
       "      <td>990.67</td>\n",
       "      <td>1</td>\n",
       "      <td>Winter</td>\n",
       "      <td>2.5</td>\n",
       "      <td>mountain</td>\n",
       "      <td>Rainy</td>\n",
       "    </tr>\n",
       "    <tr>\n",
       "      <th>...</th>\n",
       "      <td>...</td>\n",
       "      <td>...</td>\n",
       "      <td>...</td>\n",
       "      <td>...</td>\n",
       "      <td>...</td>\n",
       "      <td>...</td>\n",
       "      <td>...</td>\n",
       "      <td>...</td>\n",
       "      <td>...</td>\n",
       "      <td>...</td>\n",
       "      <td>...</td>\n",
       "    </tr>\n",
       "    <tr>\n",
       "      <th>13195</th>\n",
       "      <td>10.0</td>\n",
       "      <td>74</td>\n",
       "      <td>14.5</td>\n",
       "      <td>71.0</td>\n",
       "      <td>overcast</td>\n",
       "      <td>1003.15</td>\n",
       "      <td>1</td>\n",
       "      <td>Summer</td>\n",
       "      <td>1.0</td>\n",
       "      <td>mountain</td>\n",
       "      <td>Rainy</td>\n",
       "    </tr>\n",
       "    <tr>\n",
       "      <th>13196</th>\n",
       "      <td>-1.0</td>\n",
       "      <td>76</td>\n",
       "      <td>3.5</td>\n",
       "      <td>23.0</td>\n",
       "      <td>cloudy</td>\n",
       "      <td>1067.23</td>\n",
       "      <td>1</td>\n",
       "      <td>Winter</td>\n",
       "      <td>6.0</td>\n",
       "      <td>coastal</td>\n",
       "      <td>Snowy</td>\n",
       "    </tr>\n",
       "    <tr>\n",
       "      <th>13197</th>\n",
       "      <td>30.0</td>\n",
       "      <td>77</td>\n",
       "      <td>5.5</td>\n",
       "      <td>28.0</td>\n",
       "      <td>overcast</td>\n",
       "      <td>1012.69</td>\n",
       "      <td>3</td>\n",
       "      <td>Autumn</td>\n",
       "      <td>9.0</td>\n",
       "      <td>coastal</td>\n",
       "      <td>Cloudy</td>\n",
       "    </tr>\n",
       "    <tr>\n",
       "      <th>13198</th>\n",
       "      <td>3.0</td>\n",
       "      <td>76</td>\n",
       "      <td>10.0</td>\n",
       "      <td>94.0</td>\n",
       "      <td>overcast</td>\n",
       "      <td>984.27</td>\n",
       "      <td>0</td>\n",
       "      <td>Winter</td>\n",
       "      <td>2.0</td>\n",
       "      <td>inland</td>\n",
       "      <td>Snowy</td>\n",
       "    </tr>\n",
       "    <tr>\n",
       "      <th>13199</th>\n",
       "      <td>-5.0</td>\n",
       "      <td>38</td>\n",
       "      <td>0.0</td>\n",
       "      <td>92.0</td>\n",
       "      <td>overcast</td>\n",
       "      <td>1015.37</td>\n",
       "      <td>5</td>\n",
       "      <td>Autumn</td>\n",
       "      <td>10.0</td>\n",
       "      <td>mountain</td>\n",
       "      <td>Rainy</td>\n",
       "    </tr>\n",
       "  </tbody>\n",
       "</table>\n",
       "<p>13200 rows × 11 columns</p>\n",
       "</div>"
      ],
      "text/plain": [
       "       Temperature  Humidity  Wind Speed  Precipitation (%)    Cloud Cover  \\\n",
       "0             14.0        73         9.5               82.0  partly cloudy   \n",
       "1             39.0        96         8.5               71.0  partly cloudy   \n",
       "2             30.0        64         7.0               16.0          clear   \n",
       "3             38.0        83         1.5               82.0          clear   \n",
       "4             27.0        74        17.0               66.0       overcast   \n",
       "...            ...       ...         ...                ...            ...   \n",
       "13195         10.0        74        14.5               71.0       overcast   \n",
       "13196         -1.0        76         3.5               23.0         cloudy   \n",
       "13197         30.0        77         5.5               28.0       overcast   \n",
       "13198          3.0        76        10.0               94.0       overcast   \n",
       "13199         -5.0        38         0.0               92.0       overcast   \n",
       "\n",
       "       Atmospheric Pressure  UV Index  Season  Visibility (km)  Location  \\\n",
       "0                   1010.82         2  Winter              3.5    inland   \n",
       "1                   1011.43         7  Spring             10.0    inland   \n",
       "2                   1018.72         5  Spring              5.5  mountain   \n",
       "3                   1026.25         7  Spring              1.0   coastal   \n",
       "4                    990.67         1  Winter              2.5  mountain   \n",
       "...                     ...       ...     ...              ...       ...   \n",
       "13195               1003.15         1  Summer              1.0  mountain   \n",
       "13196               1067.23         1  Winter              6.0   coastal   \n",
       "13197               1012.69         3  Autumn              9.0   coastal   \n",
       "13198                984.27         0  Winter              2.0    inland   \n",
       "13199               1015.37         5  Autumn             10.0  mountain   \n",
       "\n",
       "      Weather Type  \n",
       "0            Rainy  \n",
       "1           Cloudy  \n",
       "2            Sunny  \n",
       "3            Sunny  \n",
       "4            Rainy  \n",
       "...            ...  \n",
       "13195        Rainy  \n",
       "13196        Snowy  \n",
       "13197       Cloudy  \n",
       "13198        Snowy  \n",
       "13199        Rainy  \n",
       "\n",
       "[13200 rows x 11 columns]"
      ]
     },
     "execution_count": 3,
     "metadata": {},
     "output_type": "execute_result"
    }
   ],
   "source": [
    "df=pd.read_csv('Weather.csv')\n",
    "df"
   ]
  },
  {
   "cell_type": "code",
   "execution_count": 3,
   "id": "c59cfdf5-d255-4c45-99d7-4578a1e1a2b3",
   "metadata": {},
   "outputs": [
    {
     "name": "stdout",
     "output_type": "stream",
     "text": [
      "<class 'pandas.core.frame.DataFrame'>\n",
      "RangeIndex: 13200 entries, 0 to 13199\n",
      "Data columns (total 11 columns):\n",
      " #   Column                Non-Null Count  Dtype  \n",
      "---  ------                --------------  -----  \n",
      " 0   Temperature           13200 non-null  float64\n",
      " 1   Humidity              13200 non-null  int64  \n",
      " 2   Wind Speed            13200 non-null  float64\n",
      " 3   Precipitation (%)     13200 non-null  float64\n",
      " 4   Cloud Cover           13200 non-null  object \n",
      " 5   Atmospheric Pressure  13200 non-null  float64\n",
      " 6   UV Index              13200 non-null  int64  \n",
      " 7   Season                13200 non-null  object \n",
      " 8   Visibility (km)       13200 non-null  float64\n",
      " 9   Location              13200 non-null  object \n",
      " 10  Weather Type          13200 non-null  object \n",
      "dtypes: float64(5), int64(2), object(4)\n",
      "memory usage: 1.1+ MB\n"
     ]
    }
   ],
   "source": [
    "df.info()"
   ]
  },
  {
   "cell_type": "code",
   "execution_count": 4,
   "id": "17254cdd-505c-4245-81d1-1602a9c2241d",
   "metadata": {},
   "outputs": [
    {
     "data": {
      "text/plain": [
       "Temperature             0\n",
       "Humidity                0\n",
       "Wind Speed              0\n",
       "Precipitation (%)       0\n",
       "Cloud Cover             0\n",
       "Atmospheric Pressure    0\n",
       "UV Index                0\n",
       "Season                  0\n",
       "Visibility (km)         0\n",
       "Location                0\n",
       "Weather Type            0\n",
       "dtype: int64"
      ]
     },
     "execution_count": 4,
     "metadata": {},
     "output_type": "execute_result"
    }
   ],
   "source": [
    "df.isnull().sum()"
   ]
  },
  {
   "cell_type": "code",
   "execution_count": 5,
   "id": "2ff8a510-0b49-4547-9d8e-1e52d04371ef",
   "metadata": {},
   "outputs": [
    {
     "data": {
      "text/plain": [
       "0"
      ]
     },
     "execution_count": 5,
     "metadata": {},
     "output_type": "execute_result"
    }
   ],
   "source": [
    "df.duplicated().sum()"
   ]
  },
  {
   "cell_type": "code",
   "execution_count": 7,
   "id": "66ac83f5-9c94-47a6-acf1-4fc665ead83a",
   "metadata": {},
   "outputs": [
    {
     "data": {
      "text/plain": [
       "Weather Type\n",
       "Rainy     3300\n",
       "Cloudy    3300\n",
       "Sunny     3300\n",
       "Snowy     3300\n",
       "Name: count, dtype: int64"
      ]
     },
     "execution_count": 7,
     "metadata": {},
     "output_type": "execute_result"
    }
   ],
   "source": [
    "df['Weather Type'].value_counts()"
   ]
  },
  {
   "cell_type": "code",
   "execution_count": 4,
   "id": "f526f99d-4bf1-4c68-b3d2-632efe1fce6b",
   "metadata": {},
   "outputs": [],
   "source": [
    "le=LabelEncoder()\n",
    "df['Weather Type']=le.fit_transform(df['Weather Type'])\n"
   ]
  },
  {
   "cell_type": "code",
   "execution_count": 5,
   "id": "298e0a4c-85cc-4564-9bc4-7797efae3247",
   "metadata": {},
   "outputs": [],
   "source": [
    "x=df.drop('Weather Type',axis=1)\n",
    "y=df['Weather Type']"
   ]
  },
  {
   "cell_type": "code",
   "execution_count": 6,
   "id": "dc07273c-ba88-4506-aea3-485096de8959",
   "metadata": {},
   "outputs": [
    {
     "name": "stderr",
     "output_type": "stream",
     "text": [
      "/data/user/0/ru.iiec.pydroid3/files/aarch64-linux-android/lib/python3.11/site-packages/sklearn/preprocessing/_encoders.py:972: FutureWarning: `sparse` was renamed to `sparse_output` in version 1.2 and will be removed in 1.4. `sparse_output` is ignored unless you leave `sparse` to its default value.\n",
      "  warnings.warn(\n"
     ]
    },
    {
     "data": {
      "text/plain": [
       "array([[0, 0, 1, ..., 1, 1, 0],\n",
       "       [0, 0, 1, ..., 0, 1, 0],\n",
       "       [0, 0, 0, ..., 0, 0, 1],\n",
       "       ...,\n",
       "       [0, 1, 0, ..., 0, 0, 0],\n",
       "       [0, 1, 0, ..., 1, 1, 0],\n",
       "       [0, 1, 0, ..., 0, 0, 1]], dtype=int32)"
      ]
     },
     "execution_count": 6,
     "metadata": {},
     "output_type": "execute_result"
    }
   ],
   "source": [
    "ohe=OneHotEncoder(sparse=False,drop='first',dtype=np.int32)\n",
    "col=['Cloud Cover','Season','Location']\n",
    "d=ohe.fit_transform(x[col])\n",
    "d\n"
   ]
  },
  {
   "cell_type": "code",
   "execution_count": 7,
   "id": "8958ac6c-2d27-4fe4-8a55-c5b6bf79768c",
   "metadata": {},
   "outputs": [
    {
     "data": {
      "text/plain": [
       "(13200, 8)"
      ]
     },
     "execution_count": 7,
     "metadata": {},
     "output_type": "execute_result"
    }
   ],
   "source": [
    "d.shape"
   ]
  },
  {
   "cell_type": "code",
   "execution_count": 7,
   "id": "05e52475-5f4a-46a4-8017-f7d4a7899a65",
   "metadata": {},
   "outputs": [],
   "source": [
    "names=ohe.get_feature_names_out()\n",
    "trans_x=pd.DataFrame(d,columns=names)"
   ]
  },
  {
   "cell_type": "code",
   "execution_count": 8,
   "id": "4c544da3-a337-4b7b-b96e-8482828749c8",
   "metadata": {},
   "outputs": [],
   "source": [
    "new_x=pd.concat([x,trans_x],axis=1)\n",
    "x=new_x.drop(col,axis=1)"
   ]
  },
  {
   "cell_type": "code",
   "execution_count": 18,
   "id": "ad9417b3-3f5b-480b-a8eb-3de7875b515e",
   "metadata": {},
   "outputs": [],
   "source": [
    "model=RandomForestClassifier()\n",
    "scores=cross_val_score(model,x,y,cv=skf,scoring='accuracy')\n"
   ]
  },
  {
   "cell_type": "code",
   "execution_count": 20,
   "id": "fbf6cdaa-fb32-4070-8e0f-05f729c79e95",
   "metadata": {},
   "outputs": [
    {
     "data": {
      "text/plain": [
       "array([0.91136364, 0.91969697, 0.91818182, 0.91893939, 0.9219697 ,\n",
       "       0.90227273, 0.91742424, 0.92348485, 0.91666667, 0.90833333])"
      ]
     },
     "execution_count": 20,
     "metadata": {},
     "output_type": "execute_result"
    }
   ],
   "source": [
    "scores"
   ]
  },
  {
   "cell_type": "code",
   "execution_count": 19,
   "id": "03b05205-115e-4b52-874a-38ed478bfa21",
   "metadata": {},
   "outputs": [
    {
     "data": {
      "text/plain": [
       "0.9158333333333333"
      ]
     },
     "execution_count": 19,
     "metadata": {},
     "output_type": "execute_result"
    }
   ],
   "source": [
    "scores.mean()"
   ]
  },
  {
   "cell_type": "code",
   "execution_count": null,
   "id": "85f911cd-fd55-4e37-ab21-6b87c6acba0b",
   "metadata": {},
   "outputs": [],
   "source": []
  }
 ],
 "metadata": {
  "kernelspec": {
   "display_name": "Python 3 (ipykernel)",
   "language": "python",
   "name": "python3"
  },
  "language_info": {
   "codemirror_mode": {
    "name": "ipython",
    "version": 3
   },
   "file_extension": ".py",
   "mimetype": "text/x-python",
   "name": "python",
   "nbconvert_exporter": "python",
   "pygments_lexer": "ipython3",
   "version": "3.11.4"
  }
 },
 "nbformat": 4,
 "nbformat_minor": 5
}
